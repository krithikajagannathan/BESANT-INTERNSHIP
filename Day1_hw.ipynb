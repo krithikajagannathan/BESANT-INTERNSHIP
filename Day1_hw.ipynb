{
 "cells": [
  {
   "cell_type": "code",
   "execution_count": 1,
   "id": "86bec34e-53a4-4958-a63a-f3e407fe499c",
   "metadata": {},
   "outputs": [
    {
     "name": "stdout",
     "output_type": "stream",
     "text": [
      "Legal variables:\n",
      "Alice\n",
      "25\n",
      "100.5\n",
      "10\n"
     ]
    }
   ],
   "source": [
    "# LEGAL VARIABLES\n",
    "user_name = \"Alice\"\n",
    "_age = 25\n",
    "totalAmount = 100.50\n",
    "x = 10\n",
    "data123 = \"Valid\"\n",
    "\n",
    "print(user_name)\n",
    "print(_age)\n",
    "print(totalAmount)\n",
    "print(x)"
   ]
  },
  {
   "cell_type": "code",
   "execution_count": 2,
   "id": "5ceed676-90b9-4bff-b52e-9f52a661d913",
   "metadata": {},
   "outputs": [
    {
     "ename": "SyntaxError",
     "evalue": "invalid decimal literal (602459937.py, line 1)",
     "output_type": "error",
     "traceback": [
      "\u001b[1;36m  Cell \u001b[1;32mIn[2], line 1\u001b[1;36m\u001b[0m\n\u001b[1;33m    2name = \"Alice\"\u001b[0m\n\u001b[1;37m    ^\u001b[0m\n\u001b[1;31mSyntaxError\u001b[0m\u001b[1;31m:\u001b[0m invalid decimal literal\n"
     ]
    }
   ],
   "source": [
    "# ILLEGAL VARIABLE NAMES\n",
    "2name = \"Alice\"\n",
    "first name = \"Bob\"\n",
    "user-name = \"Charlie\"\n",
    "@value = 100\n",
    "class = \"Math\"\n",
    "\n",
    "print(2name)\n",
    "print(first name)\n",
    "print(user-name)\n",
    "print(@value)\n",
    "print(class)"
   ]
  },
  {
   "cell_type": "code",
   "execution_count": null,
   "id": "5bfe6bbc-a8b7-44fd-9cac-f354c04ea280",
   "metadata": {},
   "outputs": [],
   "source": []
  }
 ],
 "metadata": {
  "kernelspec": {
   "display_name": "Python 3 (ipykernel)",
   "language": "python",
   "name": "python3"
  },
  "language_info": {
   "codemirror_mode": {
    "name": "ipython",
    "version": 3
   },
   "file_extension": ".py",
   "mimetype": "text/x-python",
   "name": "python",
   "nbconvert_exporter": "python",
   "pygments_lexer": "ipython3",
   "version": "3.13.5"
  }
 },
 "nbformat": 4,
 "nbformat_minor": 5
}
