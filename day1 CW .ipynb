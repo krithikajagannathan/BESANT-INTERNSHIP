{
 "cells": [
  {
   "cell_type": "code",
   "execution_count": null,
   "id": "65f7d759-ddef-4cd8-bc11-813df1a6df22",
   "metadata": {},
   "outputs": [],
   "source": [
    "'''COMMENTS\n",
    "comments are used to explain code, make notes, or temporarily disable parts of code. \n",
    "They’re ignored by the Python interpreter, so they don’t affect how your program runs.'''"
   ]
  },
  {
   "cell_type": "code",
   "execution_count": null,
   "id": "f387ef7f-df8b-4c9a-bf03-8be66f1e2799",
   "metadata": {},
   "outputs": [],
   "source": [
    "'''Single-Line Comments\n",
    "Begin with the # symbol\n",
    "\n",
    "Everything after # on that line is treated as a comment'''\n",
    "\n",
    "# This is a single-line comment\n",
    "name = \"Alice\"  # This sets the variable 'name'\n"
   ]
  },
  {
   "cell_type": "code",
   "execution_count": null,
   "id": "f4906464-ea65-474e-8231-a207f574181d",
   "metadata": {},
   "outputs": [],
   "source": [
    "'''Multi-Line Comments\n",
    "Python doesn’t have a built-in multi-line comment syntax like some other languages (e.g., /* */ in C)\n",
    ". But you can simulate multi-line comments in two ways:\n",
    "1. Using multiple # lines:\n",
    "# This is a multi-line comment\n",
    "# explaining the next block of code\n",
    "# which calculates the sum of two numbers\n",
    "a = 5\n",
    "b = 10\n",
    "print(a + b)\n",
    "\n",
    "2. Using triple quotes (''' or \"\"\")\n",
    "This is technically a multi-line string,\n",
    "but if it’s not assigned to a variable or used in a function, Python ignores it like a comment.\n",
    "'''\n",
    "This is a multi-line comment\n",
    "using triple single quotes.\n",
    "Useful for longer explanations.\n",
    "'''\n",
    "print(\"Hello, world!\")\n",
    "\n"
   ]
  },
  {
   "cell_type": "code",
   "execution_count": 1,
   "id": "989c9dbd-5f69-4ce3-ac36-2c2ac738345c",
   "metadata": {},
   "outputs": [
    {
     "name": "stdout",
     "output_type": "stream",
     "text": [
      "apple\n"
     ]
    }
   ],
   "source": [
    "'''VARIABLES\n",
    "variables are the containers to store the values '''\n",
    "a = \"apple\"\n",
    "print(a)\n",
    "#here 'a' is the variable and 'apple' is the value"
   ]
  },
  {
   "cell_type": "code",
   "execution_count": null,
   "id": "0c44489f-9936-4972-a855-30075107fe1e",
   "metadata": {},
   "outputs": [],
   "source": [
    "'''LEGAL & ILLEGAL VARIABLES\n",
    "variable names must follow specific rules to be considered legal.\n",
    "If they break these rules, they’re illegal and will cause errors when your code runs.'''\n"
   ]
  },
  {
   "cell_type": "code",
   "execution_count": 4,
   "id": "c598fdf5-b5e2-4c76-b5db-297f96bb4c56",
   "metadata": {},
   "outputs": [
    {
     "name": "stdout",
     "output_type": "stream",
     "text": [
      "Alice\n",
      "25\n",
      "Bob\n",
      "100.5\n"
     ]
    }
   ],
   "source": [
    "''' LEGAL VARIABLES\n",
    "\n",
    "the rules for valid (legal) variable names:\n",
    "\n",
    "Can Start with a letter or underscore (_) but not numbers or special characters\n",
    "\n",
    "Can contain letters, digits, and underscores (a-z, A-Z, 0-9, _)\n",
    "\n",
    "Cannot be a Python keyword (like if, for, class, etc.)\n",
    "\n",
    "Are case-sensitive (name and Name are different)'''\n",
    "\n",
    "\n",
    "name = \"Alice\"\n",
    "_age = 25\n",
    "user123 = \"Bob\"\n",
    "total_amount = 100.50\n",
    "print(name)\n",
    "print(_age)\n",
    "print(user123)\n",
    "print(total_amount)"
   ]
  },
  {
   "cell_type": "code",
   "execution_count": 5,
   "id": "af1a9d6e-a1a9-4342-917b-e9b53d38cc7b",
   "metadata": {},
   "outputs": [
    {
     "ename": "SyntaxError",
     "evalue": "invalid decimal literal (499666840.py, line 13)",
     "output_type": "error",
     "traceback": [
      "\u001b[1;36m  Cell \u001b[1;32mIn[5], line 13\u001b[1;36m\u001b[0m\n\u001b[1;33m    2name = \"Charlie\"       # Starts with a digit ❌\u001b[0m\n\u001b[1;37m    ^\u001b[0m\n\u001b[1;31mSyntaxError\u001b[0m\u001b[1;31m:\u001b[0m invalid decimal literal\n"
     ]
    }
   ],
   "source": [
    "'''Illegal Variable Names\n",
    "\n",
    "These break the rules and will raise a SyntaxError or other issues:\n",
    "\n",
    "Start with a digit\n",
    "\n",
    "Contain special characters like @, #, $, %, etc.\n",
    "\n",
    "Use spaces\n",
    "\n",
    "Are Python keywords'''\n",
    "\n",
    "2name = \"Charlie\"       # Starts with a digit ❌\n",
    "user-name = \"Dana\"      # Contains hyphen ❌\n",
    "first name = \"Eve\"      # Contains space ❌\n",
    "class = \"Math\"          # Reserved keyword ❌\n",
    "\n",
    "print(\"2name\")\n"
   ]
  },
  {
   "cell_type": "code",
   "execution_count": null,
   "id": "6796a5a5-d49a-4c45-98ed-811b4c26b06e",
   "metadata": {},
   "outputs": [],
   "source": []
  }
 ],
 "metadata": {
  "kernelspec": {
   "display_name": "Python 3 (ipykernel)",
   "language": "python",
   "name": "python3"
  },
  "language_info": {
   "codemirror_mode": {
    "name": "ipython",
    "version": 3
   },
   "file_extension": ".py",
   "mimetype": "text/x-python",
   "name": "python",
   "nbconvert_exporter": "python",
   "pygments_lexer": "ipython3",
   "version": "3.13.5"
  }
 },
 "nbformat": 4,
 "nbformat_minor": 5
}
