{
 "cells": [
  {
   "cell_type": "code",
   "execution_count": 1,
   "id": "28c1bc08-4511-4212-a61d-bc03dd7f1e85",
   "metadata": {},
   "outputs": [
    {
     "name": "stdout",
     "output_type": "stream",
     "text": [
      "yellow\n"
     ]
    }
   ],
   "source": [
    "#ASSIGNING MULTIPLE VALUES\n",
    "a,b,c = 'yellow','blue','red'\n",
    "print(a)"
   ]
  },
  {
   "cell_type": "code",
   "execution_count": 2,
   "id": "bdc0732f-9564-4e4f-bb65-d8f56d0cb799",
   "metadata": {},
   "outputs": [
    {
     "name": "stdout",
     "output_type": "stream",
     "text": [
      "10\n"
     ]
    }
   ],
   "source": [
    "#ASSIGNING MULTIPLE VARIABLES TO SINGLE VALUE\n",
    "x=y=z=10\n",
    "print(y)\n"
   ]
  },
  {
   "cell_type": "code",
   "execution_count": null,
   "id": "033387d1-5430-4c75-8d75-a74a65886e8d",
   "metadata": {},
   "outputs": [],
   "source": [
    "'''Static Values in Python\n",
    "A static value is one that doesn't change during the execution of a program. It's hardcoded and fixed.'''\n",
    "x = 10  # Static value\n",
    "y = \"Hello\"  # Static value\n",
    "\n",
    "'''x will always be 10 unless you explicitly change it.\n",
    "These values are predictable and constant unless reassigned.\n",
    "Use Case:\n",
    "Static values are useful when you need constants or default settings'''\n",
    "PI = 3.14159\n",
    "MAX_USERS = 100"
   ]
  },
  {
   "cell_type": "code",
   "execution_count": null,
   "id": "2ce468a9-ddb4-4878-aee8-4b7bca39d310",
   "metadata": {},
   "outputs": [],
   "source": [
    "'''Dynamic Values in Python\n",
    "A dynamic value is one that is determined or changes during runtime. \n",
    "It can come from user input, calculations, or external sources like files or APIs.'''\n",
    "name = input(\"Enter your name: \")  # Dynamic value\n",
    "age = int(input(\"Enter your age: \"))  # Dynamic value\n",
    "'''Here, name and age depend on what the user types.\n",
    "They’re not known until the program runs.'''"
   ]
  },
  {
   "cell_type": "code",
   "execution_count": null,
   "id": "21d5380e-46fb-4646-aab5-1c3d05ebb8b8",
   "metadata": {},
   "outputs": [],
   "source": [
    "'''The type() function in Python is used to determine the data type of an object.\n",
    "It’s a simple yet powerful tool for debugging, validation, and understanding how\n",
    "Python is interpreting your variables.'''\n",
    "x = 42\n",
    "print(type(x))  \n",
    "\n",
    "y = \"hello\"\n",
    "print(type(y))  \n",
    "\n",
    "z = [1, 2, 3]\n",
    "print(type(z))"
   ]
  },
  {
   "cell_type": "code",
   "execution_count": null,
   "id": "f3ebf693-fd5e-406d-a1b3-4d37f5e184a8",
   "metadata": {},
   "outputs": [],
   "source": [
    "'''DATA TYPES\n",
    "1. Strings : the str (string) data type, which is used to represent sequences of characters.\n",
    "You can create strings using single, double, or triple quotes'''\n",
    "# Single or double quotes\n",
    "name = 'Alice'\n",
    "greeting = \"Hello, world!\"\n",
    "\n",
    "# Triple quotes for multi-line strings\n",
    "message = \"\"\"This is\n",
    "a multi-line\n",
    "string.\"\"\""
   ]
  },
  {
   "cell_type": "code",
   "execution_count": 1,
   "id": "f7557f3c-0e13-4a29-b9a4-69425d3c8862",
   "metadata": {},
   "outputs": [
    {
     "name": "stdout",
     "output_type": "stream",
     "text": [
      "<class 'int'>\n",
      "<class 'int'>\n",
      "<class 'int'>\n"
     ]
    }
   ],
   "source": [
    "\"\"\"INTEGER :int is a built-in data type used to represent integers—whole \n",
    "numbers without a decimal point.\"\"\"\n",
    "x = 100\n",
    "a = -7\n",
    "b = 0\n",
    "print(type(x))\n",
    "print(type(a))\n",
    "print(type(b))\n"
   ]
  },
  {
   "cell_type": "code",
   "execution_count": 2,
   "id": "51a6f290-7bbf-4f07-90a9-180d23374b71",
   "metadata": {},
   "outputs": [
    {
     "name": "stdout",
     "output_type": "stream",
     "text": [
      "<class 'float'>\n",
      "<class 'float'>\n"
     ]
    }
   ],
   "source": [
    "'''FLOAT is a built-in data type used to represent real numbers\n",
    "—numbers that contain a decimal point'''\n",
    "x = 3.14159\n",
    "y = -0.001\n",
    "print(type(x))\n",
    "print(type(y))\n"
   ]
  },
  {
   "cell_type": "code",
   "execution_count": 3,
   "id": "525d1186-8fe0-4583-bbbd-220b176ac62f",
   "metadata": {},
   "outputs": [
    {
     "name": "stdout",
     "output_type": "stream",
     "text": [
      "<class 'complex'>\n",
      "5.0\n",
      "2.0\n"
     ]
    }
   ],
   "source": [
    "'''COMPLEX NUMBER data type, which is used to represent complex numbers\n",
    "—numbers that have both a real and an imaginary part.'''\n",
    "z = 3 + 4j\n",
    "print(type(z))\n",
    "\n",
    "#ACCESSING PARTS OF A COMPLEX NUMBER\n",
    "z = 5 + 2j\n",
    "\n",
    "print(z.real) \n",
    "print(z.imag)\n"
   ]
  },
  {
   "cell_type": "code",
   "execution_count": 4,
   "id": "3cf4d88e-c1e3-43d2-ba16-092891676ac4",
   "metadata": {},
   "outputs": [],
   "source": [
    "'''TYPE CASTING  in Python is the process of converting a variable\n",
    "from one data type to another. It’s essential when working with mixed data types, \n",
    "user input,or external data sources like files and API'''\n",
    "# Convert float to int\n",
    "a = int(3.9)     \n",
    "\n",
    "# Convert string to float\n",
    "b = float(\"4.2\") \n",
    "\n",
    "# Convert int to string\n",
    "c = str(100)    \n",
    "\n",
    "# Convert string to int\n",
    "d = int(\"42\")    "
   ]
  },
  {
   "cell_type": "code",
   "execution_count": null,
   "id": "1186264d-0646-4d07-bcca-dab415ed321d",
   "metadata": {},
   "outputs": [],
   "source": []
  }
 ],
 "metadata": {
  "kernelspec": {
   "display_name": "Python 3 (ipykernel)",
   "language": "python",
   "name": "python3"
  },
  "language_info": {
   "codemirror_mode": {
    "name": "ipython",
    "version": 3
   },
   "file_extension": ".py",
   "mimetype": "text/x-python",
   "name": "python",
   "nbconvert_exporter": "python",
   "pygments_lexer": "ipython3",
   "version": "3.13.5"
  }
 },
 "nbformat": 4,
 "nbformat_minor": 5
}
