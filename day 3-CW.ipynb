{
 "cells": [
  {
   "cell_type": "code",
   "execution_count": 1,
   "id": "6cf6e722-0f50-4d55-9f19-8de759b3c7db",
   "metadata": {},
   "outputs": [
    {
     "name": "stdout",
     "output_type": "stream",
     "text": [
      "Length of the string: 14\n"
     ]
    }
   ],
   "source": [
    "#STRING LENGTH\n",
    "\"\"\"The len() function counts all characters, including spaces and punctuation.\n",
    "Works with any string, even empty ones.\"\"\"\n",
    "text = \"Python is fun!\"\n",
    "length = len(text)\n",
    "print(\"Length of the string:\", length)\n"
   ]
  },
  {
   "cell_type": "code",
   "execution_count": null,
   "id": "aac2cc40-7364-4b1c-af97-21df4e12fb55",
   "metadata": {},
   "outputs": [],
   "source": [
    "'''STRING INDEXING\n",
    "String indexing in Python refers to accessing individual characters in a string using their position or index. \n",
    "Each character in a string has a unique index number, starting from 0.'''\n",
    "text = \"Python\"\n",
    "text[1] \n",
    "text[-2] #Python also supports negative indexing, which starts from the end of the string.starts from -1 \n"
   ]
  },
  {
   "cell_type": "code",
   "execution_count": 2,
   "id": "2f904d85-7d74-4e41-8718-06118bb7278e",
   "metadata": {},
   "outputs": [
    {
     "name": "stdout",
     "output_type": "stream",
     "text": [
      "Tamb\n",
      "aram\n",
      "Tamb\n",
      "aram\n",
      "Tmaa\n"
     ]
    }
   ],
   "source": [
    "'''STRING SLICING  in Python lets you extract parts of a string using a special syntax (string[start:end]\n",
    "string[start:end]\n",
    "start: the index where the slice begins (inclusive)\n",
    "\n",
    "end: the index where the slice ends (exclusive)\n",
    "\n",
    "You can also use a third value: string[start:end:step] to skip characters'''\n",
    "\n",
    "text = \"Tambaram\"\n",
    "print(text[0:4])\n",
    "print(text[4:])\n",
    "print(text[:4]) \n",
    "print(text[-4:])\n",
    "print(text[::2]) "
   ]
  },
  {
   "cell_type": "code",
   "execution_count": 3,
   "id": "de1d3915-f4e6-4712-baa9-23ddb441b0af",
   "metadata": {},
   "outputs": [
    {
     "name": "stdout",
     "output_type": "stream",
     "text": [
      "GOOD EVENING\n",
      "welcome to python\n",
      "Learn Python\n",
      "['apple', 'orange', 'banana']\n",
      "['data', 'science']\n",
      "['Hello', 'orld']\n",
      "Machine\n"
     ]
    }
   ],
   "source": [
    "'''STRING METHODS\n",
    "1. upper() – Converts all alphabetic characters in a string to uppercase.'''\n",
    "text = \"good evening\"\n",
    "print(text.upper()) \n",
    "\n",
    "#2. lower() - Converts all alphabetic characters to lowercase.\n",
    "text = \"WELCOME To PYTHON\"\n",
    "print(text.lower())  # Output: \"welcome to python\"\n",
    "\n",
    "#3. strip() – Removes any whitespace (spaces, tabs, newlines) from the start and end of the string.\n",
    "text = \"   Learn Python   \"\n",
    "cleaned = text.strip()\n",
    "print(cleaned)\n",
    "\n",
    "'''4. split() – Breaks a string into a list of substrings based on a separator.\n",
    "If no separator is given, it splits by whitespace.'''\n",
    "text = \"apple-orange-banana\"\n",
    "print(text.split(\"-\"))\n",
    "\n",
    "text = \"data science\"\n",
    "print(text.split())\n",
    "\n",
    "text = \"HelloWorld\"\n",
    "print(text.split(\"W\"))\n",
    "\n",
    "'''5.Combine split() and Indexing\n",
    "Split the string into a list, then access a specific word using indexing. '''\n",
    "text = \"Machine Learning\"\n",
    "words = text.split()\n",
    "print(words[0])\n",
    "\n"
   ]
  },
  {
   "cell_type": "code",
   "execution_count": null,
   "id": "f6071685-d27a-4ddd-b026-59dbf96a71c6",
   "metadata": {},
   "outputs": [],
   "source": [
    "'''f-string\n",
    "An f-string (short for formatted string literal) \n",
    "lets you embed expressions inside string literals using curly braces {}.'''\n",
    "name = \"Alice\"\n",
    "greeting = f\"Hello, {name}!\"\n",
    "print(greeting)  "
   ]
  }
 ],
 "metadata": {
  "kernelspec": {
   "display_name": "Python 3 (ipykernel)",
   "language": "python",
   "name": "python3"
  },
  "language_info": {
   "codemirror_mode": {
    "name": "ipython",
    "version": 3
   },
   "file_extension": ".py",
   "mimetype": "text/x-python",
   "name": "python",
   "nbconvert_exporter": "python",
   "pygments_lexer": "ipython3",
   "version": "3.13.5"
  }
 },
 "nbformat": 4,
 "nbformat_minor": 5
}
