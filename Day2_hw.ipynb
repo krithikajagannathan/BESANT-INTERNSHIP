{
 "cells": [
  {
   "cell_type": "code",
   "execution_count": 1,
   "id": "58037fcb-9ef2-460e-a659-ea520e67c201",
   "metadata": {},
   "outputs": [
    {
     "name": "stdout",
     "output_type": "stream",
     "text": [
      "3\n",
      "rain\n"
     ]
    }
   ],
   "source": [
    "#MULTIPLE ASSIGNMENT\n",
    "a, b, c = 1, 2, 3\n",
    "print(c)\n",
    "x,y,z = \"apple\",\"rain\",\"unicorn\"\n",
    "print(y)\n"
   ]
  },
  {
   "cell_type": "code",
   "execution_count": null,
   "id": "0bde05b5-8592-4a09-a03f-2c7f9e3b5d42",
   "metadata": {},
   "outputs": [],
   "source": [
    "#Same Value to Multiple Variables\n",
    "x = y = z = 100\n",
    "print(x)\n",
    "w=l=m = \"orange\""
   ]
  },
  {
   "cell_type": "code",
   "execution_count": null,
   "id": "bf5286dd-4b3f-4033-afa6-0a4c2c5a28cc",
   "metadata": {},
   "outputs": [],
   "source": [
    "#STATIC VALUE\n",
    "# 1. Assigning an integer\n",
    "x = 10\n",
    "print(x)\n",
    "\n",
    "# 2. Assigning a string\n",
    "name = \"Alice\"\n",
    "print(name)\n",
    "\n",
    "# 3. Assigning a boolean\n",
    "is_active = True\n",
    "print(is_active)\n",
    "\n",
    "# 4. Assigning a list\n",
    "colors = [\"red\", \"green\", \"blue\"]\n",
    "print(colors)\n",
    "\n",
    "# 5. Assigning a dictionary\n",
    "user = {\"id\": 1, \"name\": \"Bob\"}\n",
    "print(user)\n"
   ]
  },
  {
   "cell_type": "code",
   "execution_count": null,
   "id": "0eb36939-bab2-4f05-8601-d05189ad1450",
   "metadata": {},
   "outputs": [],
   "source": [
    "#DYNAMIC VALUES\n",
    "# 1. Getting current time\n",
    "import datetime\n",
    "now = datetime.datetime.now()\n",
    "\n",
    "# 2. Reading user input\n",
    "user_input = input(\"Enter your name: \")\n",
    "\n",
    "# 3. Using a function return\n",
    "def get_score():\n",
    "    return 95\n",
    "score = get_score()\n",
    "\n",
    "# 4. Calculating a value\n",
    "area = 3.14 * (5 ** 2)\n",
    "\n",
    "# 5. Fetching from a list\n",
    "fruits = [\"apple\", \"banana\", \"cherry\"]\n",
    "favorite = fruits[1]\n"
   ]
  },
  {
   "cell_type": "code",
   "execution_count": 2,
   "id": "7aec7577-6e3f-46ee-b1be-38bc75a10f6f",
   "metadata": {},
   "outputs": [
    {
     "name": "stdout",
     "output_type": "stream",
     "text": [
      "<class 'int'>\n",
      "<class 'str'>\n",
      "<class 'list'>\n",
      "<class 'dict'>\n",
      "<class 'function'>\n"
     ]
    }
   ],
   "source": [
    "#TYPE()\n",
    "x = 42\n",
    "print(type(x))\n",
    "name = \"Python\"\n",
    "print(type(name)) \n",
    "items = [1, 2, 3]\n",
    "print(type(items))\n",
    "person = {\"name\": \"Alice\", \"age\": 30}\n",
    "print(type(person)) \n",
    "\n",
    "def greet():\n",
    "    return \"Hello\"\n",
    "\n",
    "print(type(greet))\n"
   ]
  },
  {
   "cell_type": "code",
   "execution_count": null,
   "id": "5ecb4419-fe75-4028-bdb8-f007383e66b0",
   "metadata": {},
   "outputs": [],
   "source": [
    "#INTEGER\n",
    "a = 10\n",
    "b = -5\n",
    "c = 0\n",
    "d = 999999\n",
    "e = 42"
   ]
  },
  {
   "cell_type": "code",
   "execution_count": null,
   "id": "c4435917-3fbc-408a-8f38-118718385508",
   "metadata": {},
   "outputs": [],
   "source": [
    "#FLOAT\n",
    "x = 3.14\n",
    "y = -0.001\n",
    "z = 0.0\n",
    "pi = 3.14159"
   ]
  },
  {
   "cell_type": "code",
   "execution_count": null,
   "id": "915be860-f2a0-4158-9852-a51d7627b8c7",
   "metadata": {},
   "outputs": [],
   "source": [
    "#STRING\n",
    "name = \"Alice\"\n",
    "greeting = 'Hello, world!'\n",
    "empty = \"\"\n",
    "quote = \"Python's awesome\"\n",
    "multiline = \"\"\"This is\n",
    "a multi-line\n",
    "string.\"\"\"\n"
   ]
  },
  {
   "cell_type": "code",
   "execution_count": null,
   "id": "18507e4e-92d1-44a7-9259-e5f20ae1a81a",
   "metadata": {},
   "outputs": [],
   "source": [
    "#COMPLEX\n",
    "c1 = 2 + 3j\n",
    "c2 = -1j\n",
    "c3 = complex(4, 5)\n",
    "c4 = 0 + 0j\n",
    "c5 = 6+2j\n"
   ]
  },
  {
   "cell_type": "code",
   "execution_count": 4,
   "id": "ba7d474c-fa2b-418e-9cd4-305938dec79d",
   "metadata": {},
   "outputs": [
    {
     "name": "stdout",
     "output_type": "stream",
     "text": [
      "<class 'int'>\n",
      "<class 'float'>\n",
      "<class 'str'>\n",
      "<class 'complex'>\n",
      "Age as string: 25\n",
      "Height as integer: 5\n",
      "Real part of signal: 3.0\n",
      "Imaginary part of signal: 4.0\n"
     ]
    }
   ],
   "source": [
    "#TYPE CASTING\n",
    "\n",
    "age = 25                      \n",
    "height = 5.9                 \n",
    "name = \"Alice\"              \n",
    "signal = 3 + 4j    \n",
    "\n",
    "\n",
    "print(type(age))             \n",
    "print(type(height))\n",
    "print(type(name))            \n",
    "print(type(signal))          \n",
    "\n",
    "\n",
    "age_str = str(age)           \n",
    "height_int = int(height)     \n",
    "real_part = signal.real      \n",
    "imag_part = signal.imag      \n",
    "\n",
    " \n",
    "print(\"Age as string:\", age_str)\n",
    "print(\"Height as integer:\", height_int)\n",
    "print(\"Real part of signal:\", real_part)\n",
    "print(\"Imaginary part of signal:\", imag_part)\n"
   ]
  },
  {
   "cell_type": "code",
   "execution_count": null,
   "id": "a3fdadcf-4df2-4cf0-b8be-06ae367a39aa",
   "metadata": {},
   "outputs": [],
   "source": []
  }
 ],
 "metadata": {
  "kernelspec": {
   "display_name": "Python 3 (ipykernel)",
   "language": "python",
   "name": "python3"
  },
  "language_info": {
   "codemirror_mode": {
    "name": "ipython",
    "version": 3
   },
   "file_extension": ".py",
   "mimetype": "text/x-python",
   "name": "python",
   "nbconvert_exporter": "python",
   "pygments_lexer": "ipython3",
   "version": "3.13.5"
  }
 },
 "nbformat": 4,
 "nbformat_minor": 5
}
