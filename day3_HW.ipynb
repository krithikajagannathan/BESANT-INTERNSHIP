{
 "cells": [
  {
   "cell_type": "code",
   "execution_count": null,
   "id": "2299760f-abdc-48f0-9e46-9d75f7b3e53e",
   "metadata": {},
   "outputs": [],
   "source": [
    "#STRING METHODS\n",
    "#1. replace() – Replaces all occurrences of a specified substring with another.\n",
    "text = \"I love apples\"\n",
    "new_text = text.replace(\"apples\", \"mangoes\")\n",
    "print(new_text)  \n"
   ]
  },
  {
   "cell_type": "code",
   "execution_count": null,
   "id": "b3a29291-d1f5-4761-b719-448a10f1bb83",
   "metadata": {},
   "outputs": [],
   "source": [
    "#startswith() – Returns True if the string starts with the specified substring.\n",
    "text = \"data science\"\n",
    "print(text.startswith(\"data\"))\n"
   ]
  },
  {
   "cell_type": "code",
   "execution_count": null,
   "id": "062f3205-9ce8-43c3-ae11-3abf72d4ffad",
   "metadata": {},
   "outputs": [],
   "source": [
    "#capitalize() – Converts the first character to uppercase and the rest to lowercase.\n",
    "text = \"hello world\"\n",
    "print(text.capitalize())  # Output: Hello world\n"
   ]
  },
  {
   "cell_type": "code",
   "execution_count": null,
   "id": "d3aea7e9-1188-4f16-ac00-ebc81d10152d",
   "metadata": {},
   "outputs": [],
   "source": [
    "#find() – Returns the lowest index of the first occurrence of a substring.\n",
    "#Returns -1 if not found.\n",
    "text = \"Python programming\"\n",
    "index = text.find(\"gram\")\n",
    "print(index)\n"
   ]
  },
  {
   "cell_type": "code",
   "execution_count": 1,
   "id": "026fd323-3449-4875-b40d-84bd0ee156a7",
   "metadata": {},
   "outputs": [
    {
     "name": "stdout",
     "output_type": "stream",
     "text": [
      "3\n"
     ]
    }
   ],
   "source": [
    "#count() – Counts how many times a substring appears in the string.\n",
    "text = \"banana\"\n",
    "print(text.count(\"a\"))"
   ]
  },
  {
   "cell_type": "code",
   "execution_count": null,
   "id": "bb3940cd-040a-422e-9070-a2d4e2099a97",
   "metadata": {},
   "outputs": [],
   "source": []
  }
 ],
 "metadata": {
  "kernelspec": {
   "display_name": "Python 3 (ipykernel)",
   "language": "python",
   "name": "python3"
  },
  "language_info": {
   "codemirror_mode": {
    "name": "ipython",
    "version": 3
   },
   "file_extension": ".py",
   "mimetype": "text/x-python",
   "name": "python",
   "nbconvert_exporter": "python",
   "pygments_lexer": "ipython3",
   "version": "3.13.5"
  }
 },
 "nbformat": 4,
 "nbformat_minor": 5
}
